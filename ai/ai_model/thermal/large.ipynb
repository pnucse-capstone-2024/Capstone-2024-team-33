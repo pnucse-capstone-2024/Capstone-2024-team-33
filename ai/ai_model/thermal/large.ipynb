{
 "cells": [
  {
   "cell_type": "markdown",
   "id": "a2bcba5f-002e-4f49-9622-ada6117faf0a",
   "metadata": {},
   "source": [
    "## Import"
   ]
  },
  {
   "cell_type": "code",
   "execution_count": 1,
   "id": "2b0d9b68-7102-4eca-9543-3b9b8acafc6e",
   "metadata": {},
   "outputs": [
    {
     "name": "stderr",
     "output_type": "stream",
     "text": [
      "/home/insung/fall_detection/fall_env/lib/python3.9/site-packages/tqdm/auto.py:21: TqdmWarning: IProgress not found. Please update jupyter and ipywidgets. See https://ipywidgets.readthedocs.io/en/stable/user_install.html\n",
      "  from .autonotebook import tqdm as notebook_tqdm\n"
     ]
    }
   ],
   "source": [
    "import sklearn\n",
    "\n",
    "import random\n",
    "import numpy as np\n",
    "import os\n",
    "import cv2\n",
    "\n",
    "import torch\n",
    "import torch.nn as nn\n",
    "import torch.optim as optim\n",
    "import torch.nn.functional as F\n",
    "from torch.utils.data import Dataset, DataLoader, Subset\n",
    "from torchvision import transforms\n",
    "\n",
    "\n",
    "import torchvision.models as models\n",
    "\n",
    "from tqdm.auto import tqdm\n",
    "from sklearn.model_selection import StratifiedShuffleSplit\n",
    "from sklearn.model_selection import train_test_split\n",
    "\n",
    "from sklearn.metrics import f1_score\n",
    "\n",
    "import warnings\n",
    "warnings.filterwarnings(action='ignore') \n",
    "import wandb"
   ]
  },
  {
   "cell_type": "code",
   "execution_count": 2,
   "id": "1ab17067",
   "metadata": {},
   "outputs": [],
   "source": [
    "import tensorrt"
   ]
  },
  {
   "cell_type": "code",
   "execution_count": 2,
   "id": "d13862e3-bb27-47af-9b58-a9fbf804df71",
   "metadata": {},
   "outputs": [
    {
     "data": {
      "text/plain": [
       "device(type='cuda')"
      ]
     },
     "execution_count": 2,
     "metadata": {},
     "output_type": "execute_result"
    }
   ],
   "source": [
    "device = torch.device('cuda') if torch.cuda.is_available() else torch.device('cpu')\n",
    "device"
   ]
  },
  {
   "cell_type": "markdown",
   "id": "fc7df3f2-62d0-4499-a46e-47d01699def0",
   "metadata": {},
   "source": [
    "## Hyperparameter Setting"
   ]
  },
  {
   "cell_type": "code",
   "execution_count": 4,
   "id": "c3367399-9798-4e38-967b-fd2320b9a2b2",
   "metadata": {},
   "outputs": [],
   "source": [
    "CFG = {\n",
    "    'VIDEO_LENGTH':50,\n",
    "    'EPOCHS':100,\n",
    "    'LEARNING_RATE':3e-4,\n",
    "    'BATCH_SIZE':4,\n",
    "    'SEED':42,\n",
    "    'TRAIN_DIR':'./data_new/train',\n",
    "    'TEST_DIR':'./data_new/test'\n",
    "}"
   ]
  },
  {
   "cell_type": "code",
   "execution_count": 5,
   "id": "b31d3e01",
   "metadata": {},
   "outputs": [
    {
     "name": "stderr",
     "output_type": "stream",
     "text": [
      "Failed to detect the name of this notebook, you can set it manually with the WANDB_NOTEBOOK_NAME environment variable to enable code saving.\n",
      "\u001b[34m\u001b[1mwandb\u001b[0m: Currently logged in as: \u001b[33mis-jang\u001b[0m (\u001b[33mis-jang-pusan-national-university\u001b[0m). Use \u001b[1m`wandb login --relogin`\u001b[0m to force relogin\n"
     ]
    },
    {
     "data": {
      "text/html": [
       "Tracking run with wandb version 0.17.8"
      ],
      "text/plain": [
       "<IPython.core.display.HTML object>"
      ]
     },
     "metadata": {},
     "output_type": "display_data"
    },
    {
     "data": {
      "text/html": [
       "Run data is saved locally in <code>/home/insung/fall_detection/wandb/run-20241008_141323-lnx8ls10</code>"
      ],
      "text/plain": [
       "<IPython.core.display.HTML object>"
      ]
     },
     "metadata": {},
     "output_type": "display_data"
    },
    {
     "data": {
      "text/html": [
       "Syncing run <strong><a href='https://wandb.ai/is-jang-pusan-national-university/thermal_fall_new/runs/lnx8ls10' target=\"_blank\">sweet-aardvark-22</a></strong> to <a href='https://wandb.ai/is-jang-pusan-national-university/thermal_fall_new' target=\"_blank\">Weights & Biases</a> (<a href='https://wandb.me/run' target=\"_blank\">docs</a>)<br/>"
      ],
      "text/plain": [
       "<IPython.core.display.HTML object>"
      ]
     },
     "metadata": {},
     "output_type": "display_data"
    },
    {
     "data": {
      "text/html": [
       " View project at <a href='https://wandb.ai/is-jang-pusan-national-university/thermal_fall_new' target=\"_blank\">https://wandb.ai/is-jang-pusan-national-university/thermal_fall_new</a>"
      ],
      "text/plain": [
       "<IPython.core.display.HTML object>"
      ]
     },
     "metadata": {},
     "output_type": "display_data"
    },
    {
     "data": {
      "text/html": [
       " View run at <a href='https://wandb.ai/is-jang-pusan-national-university/thermal_fall_new/runs/lnx8ls10' target=\"_blank\">https://wandb.ai/is-jang-pusan-national-university/thermal_fall_new/runs/lnx8ls10</a>"
      ],
      "text/plain": [
       "<IPython.core.display.HTML object>"
      ]
     },
     "metadata": {},
     "output_type": "display_data"
    },
    {
     "data": {
      "text/html": [
       "<button onClick=\"this.nextSibling.style.display='block';this.style.display='none';\">Display W&B run</button><iframe src='https://wandb.ai/is-jang-pusan-national-university/thermal_fall_new/runs/lnx8ls10?jupyter=true' style='border:none;width:100%;height:420px;display:none;'></iframe>"
      ],
      "text/plain": [
       "<wandb.sdk.wandb_run.Run at 0x7fc897ab0fd0>"
      ]
     },
     "execution_count": 5,
     "metadata": {},
     "output_type": "execute_result"
    },
    {
     "name": "stderr",
     "output_type": "stream",
     "text": [
      "\u001b[34m\u001b[1mwandb\u001b[0m: 500 encountered ({\"errors\":[{\"message\":\"context deadline exceeded\",\"path\":[\"project\"]}],\"data\":{\"project\":null}}), retrying request\n",
      "\u001b[34m\u001b[1mwandb\u001b[0m: Network error resolved after 0:01:05.136211, resuming normal operation.\n"
     ]
    }
   ],
   "source": [
    "wandb.init(project=\"thermal_fall_new\", config=CFG)"
   ]
  },
  {
   "cell_type": "code",
   "execution_count": null,
   "id": "4db46fc2",
   "metadata": {},
   "outputs": [],
   "source": []
  },
  {
   "cell_type": "markdown",
   "id": "4254e860-ff82-43ba-bfa3-fcee4eb3ddbd",
   "metadata": {},
   "source": [
    "## Fixed RandomSeed"
   ]
  },
  {
   "cell_type": "code",
   "execution_count": 6,
   "id": "101a714b-71b6-4475-a4ce-fa5f98bc2731",
   "metadata": {},
   "outputs": [],
   "source": [
    "def seed_everything(seed):\n",
    "    random.seed(seed)\n",
    "    os.environ['PYTHONHASHSEED'] = str(seed)\n",
    "    np.random.seed(seed)\n",
    "    torch.manual_seed(seed)\n",
    "    torch.cuda.manual_seed(seed)\n",
    "    torch.backends.cudnn.deterministic = True\n",
    "    torch.backends.cudnn.benchmark = True\n",
    "\n",
    "seed_everything(CFG['SEED']) # Seed 고정"
   ]
  },
  {
   "cell_type": "markdown",
   "id": "05a4172e-5791-446f-9616-35c09d8bf25a",
   "metadata": {},
   "source": [
    "## Data Load"
   ]
  },
  {
   "cell_type": "markdown",
   "id": "0380b40a-f540-4225-8ffc-50059fd28a2c",
   "metadata": {},
   "source": [
    "## Train / Validation Split"
   ]
  },
  {
   "cell_type": "markdown",
   "id": "ac27ed36-8031-47a7-bd0d-a913513f2e8e",
   "metadata": {},
   "source": [
    "## CustomDataset"
   ]
  },
  {
   "cell_type": "code",
   "execution_count": 7,
   "id": "16fd60a5-24e2-4539-bfd0-1c374a641699",
   "metadata": {},
   "outputs": [],
   "source": [
    "\n",
    "class CustomDataset(Dataset):\n",
    "    def __init__(self, root_dir):\n",
    "        self.root_dir = root_dir\n",
    "        self.classes = os.listdir(root_dir)\n",
    "        self.num_frames = 50\n",
    "\n",
    "        self.video_paths = []\n",
    "        self.labels = []\n",
    "\n",
    "        for label, cls in enumerate(self.classes):\n",
    "            cls_path = os.path.join(root_dir, cls)\n",
    "            video_files = os.listdir(cls_path)\n",
    "            for video_file in video_files:\n",
    "                video_path = os.path.join(cls_path, video_file)\n",
    "                self.video_paths.append(video_path)\n",
    "                # # print(video_path + str(label)) # no 0 good 1 fall 2\n",
    "                # if label == 0:\n",
    "                #     print(\"bin\")\n",
    "                #     label = 1\n",
    "                self.labels.append(label)\n",
    "\n",
    "    def __len__(self):\n",
    "        return len(self.video_paths)\n",
    "\n",
    "    def __getitem__(self, idx):\n",
    "        video_path = self.video_paths[idx]\n",
    "        frames = sorted(os.listdir(video_path))[:self.num_frames]\n",
    "\n",
    "        video_frames = []\n",
    "        for frame in frames:\n",
    "            img_path = os.path.join(video_path, frame)\n",
    "            img = cv2.imread(img_path, cv2.IMREAD_GRAYSCALE)\n",
    "            img = cv2.resize(img, (64, 64))\n",
    "            img = img / 255.0\n",
    "\n",
    "            angle = random.uniform(-10, 10)\n",
    "            M = cv2.getRotationMatrix2D((img.shape[1] / 2, img.shape[0] / 2), angle, 1)\n",
    "            img = cv2.warpAffine(img, M, (img.shape[1], img.shape[0]))\n",
    "            \n",
    "            video_frames.append(img)\n",
    "        \n",
    "        video_frames = np.stack(video_frames)\n",
    "        video_frames = np.expand_dims(video_frames, axis=0)\n",
    "        video_frames = torch.FloatTensor(video_frames)\n",
    "\n",
    "        label = self.labels[idx]\n",
    "        label = torch.tensor(label, dtype=torch.long)\n",
    "\n",
    "        return video_frames, label\n"
   ]
  },
  {
   "cell_type": "code",
   "execution_count": 8,
   "id": "92300e32",
   "metadata": {},
   "outputs": [],
   "source": [
    "\n",
    "# Dataset 및 타겟 정의\n",
    "train_dataset = CustomDataset(CFG['TRAIN_DIR'])\n",
    "targets = train_dataset.labels\n",
    "\n",
    "# StratifiedShuffleSplit 사용\n",
    "stratified_split = StratifiedShuffleSplit(n_splits=1, test_size=0.2, random_state=CFG['SEED'])\n",
    "\n",
    "# StratifiedShuffleSplit은 인덱스를 반환하므로 이를 활용해 train/val 인덱스 분리\n",
    "for train_idx, val_idx in stratified_split.split(train_dataset, targets):\n",
    "    train_dataset_split = Subset(train_dataset, train_idx)\n",
    "    val_dataset_split = Subset(train_dataset, val_idx)\n",
    "\n",
    "# DataLoader 설정\n",
    "train_loader = DataLoader(train_dataset_split, batch_size=CFG['BATCH_SIZE'], shuffle=True, num_workers=0)\n",
    "valid_loader = DataLoader(val_dataset_split, batch_size=CFG['BATCH_SIZE'], shuffle=False, num_workers=0)\n"
   ]
  },
  {
   "cell_type": "markdown",
   "id": "39962463-032f-490a-a76d-c03991795f38",
   "metadata": {},
   "source": [
    "## Model Define"
   ]
  },
  {
   "cell_type": "code",
   "execution_count": 9,
   "id": "3664c4d0-f1f2-4971-9090-4d6ee66309ae",
   "metadata": {},
   "outputs": [],
   "source": [
    "class BaseModel(nn.Module):\n",
    "    def __init__(self, num_classes=2):\n",
    "        super(BaseModel, self).__init__()\n",
    "        self.feature_extract = nn.Sequential(\n",
    "            nn.Conv3d(1, 8, (1, 3, 3)),  # Change input channels from 3 to 1\n",
    "            nn.ReLU(),\n",
    "            nn.BatchNorm3d(8),\n",
    "            nn.MaxPool3d((1, 2, 2)),  # Use smaller kernel size to prevent excessive reduction\n",
    "            nn.Conv3d(8, 32, (1, 3, 3)),  # Adjust kernel size\n",
    "            nn.ReLU(),\n",
    "            nn.BatchNorm3d(32),\n",
    "            nn.MaxPool3d((1, 2, 2)),  # Use smaller kernel size to prevent excessive reduction\n",
    "            nn.Conv3d(32, 64, (1, 3, 3)),  # Adjust kernel size\n",
    "            nn.ReLU(),\n",
    "            nn.BatchNorm3d(64),\n",
    "            nn.MaxPool3d((1, 2, 2)),  # Use smaller kernel size to prevent excessive reduction\n",
    "            nn.Conv3d(64, 128, (1, 3, 3)),  # Adjust kernel size\n",
    "            nn.ReLU(),\n",
    "            nn.BatchNorm3d(128),\n",
    "            nn.Conv3d(128, 256, (1, 3, 3)),  # Adjust kernel size\n",
    "            nn.ReLU(),\n",
    "            nn.BatchNorm3d(256),\n",
    "            nn.AdaptiveAvgPool3d((1, 1, 1)),  # Use adaptive pooling to get a fixed output size\n",
    "        )\n",
    "        self.classifier = nn.Linear(256, num_classes)  # Adjust input size to match feature map output\n",
    "\n",
    "    def forward(self, x):\n",
    "        batch_size = x.size(0)\n",
    "        x = self.feature_extract(x)\n",
    "        x = x.view(batch_size, -1)\n",
    "        x = self.classifier(x)\n",
    "        return x\n"
   ]
  },
  {
   "cell_type": "code",
   "execution_count": 10,
   "id": "1c6c48ff",
   "metadata": {},
   "outputs": [],
   "source": [
    "class EarlyStopping:\n",
    "    def __init__(self, patience=3, delta=0.0, mode='min', verbose=True):\n",
    "        \"\"\"\n",
    "        patience (int): loss or score가 개선된 후 기다리는 기간. default: 3\n",
    "        delta  (float): 개선시 인정되는 최소 변화 수치. default: 0.0\n",
    "        mode     (str): 개선시 최소/최대값 기준 선정('min' or 'max'). default: 'min'.\n",
    "        verbose (bool): 메시지 출력. default: True\n",
    "        \"\"\"\n",
    "        self.early_stop = False\n",
    "        self.patience = patience\n",
    "        self.verbose = verbose\n",
    "        self.counter = 0\n",
    "        \n",
    "        self.best_score = np.Inf if mode == 'min' else 0\n",
    "        self.mode = mode\n",
    "        self.delta = delta\n",
    "        \n",
    "\n",
    "    def __call__(self, score):\n",
    "\n",
    "        if self.best_score is None:\n",
    "            self.best_score = score\n",
    "            self.counter = 0\n",
    "        elif self.mode == 'min':\n",
    "            if score < (self.best_score - self.delta):\n",
    "                self.counter = 0\n",
    "                self.best_score = score\n",
    "                if self.verbose:\n",
    "                    print(f'[EarlyStopping] (Update) Best Score: {self.best_score:.5f}')\n",
    "            else:\n",
    "                self.counter += 1\n",
    "                if self.verbose:\n",
    "                    print(f'[EarlyStopping] (Patience) {self.counter}/{self.patience}, ' \\\n",
    "                          f'Best: {self.best_score:.5f}' \\\n",
    "                          f', Current: {score:.5f}, Delta: {np.abs(self.best_score - score):.5f}')\n",
    "                \n",
    "        elif self.mode == 'max':\n",
    "            if score > (self.best_score + self.delta):\n",
    "                self.counter = 0\n",
    "                self.best_score = score\n",
    "                if self.verbose:\n",
    "                    print(f'[EarlyStopping] (Update) Best Score: {self.best_score:.5f}')\n",
    "            else:\n",
    "                self.counter += 1\n",
    "                if self.verbose:\n",
    "                    print(f'[EarlyStopping] (Patience) {self.counter}/{self.patience}, ' \\\n",
    "                          f'Best: {self.best_score:.5f}' \\\n",
    "                          f', Current: {score:.5f}, Delta: {np.abs(self.best_score - score):.5f}')\n",
    "                \n",
    "            \n",
    "        if self.counter >= self.patience:\n",
    "            if self.verbose:\n",
    "                print(f'[EarlyStop Triggered] Best Score: {self.best_score:.5f}')\n",
    "            # Early Stop\n",
    "            self.early_stop = True\n",
    "        else:\n",
    "            # Continue\n",
    "            self.early_stop = False"
   ]
  },
  {
   "cell_type": "markdown",
   "id": "122af0aa-a1fd-4595-9488-35761e3cb596",
   "metadata": {},
   "source": [
    "## Train"
   ]
  },
  {
   "cell_type": "code",
   "execution_count": 11,
   "id": "a17df6b3-16c9-44dd-b0fd-ffb501fee749",
   "metadata": {},
   "outputs": [],
   "source": [
    "def train(model, optimizer, train_loader, val_loader, device):\n",
    "    model.to(device)\n",
    "    criterion = nn.CrossEntropyLoss().to(device)\n",
    "    \n",
    "    \n",
    "    for epoch in range(1, CFG['EPOCHS']+1):\n",
    "        model.train()\n",
    "        train_loss = []\n",
    "        for videos, labels in tqdm(iter(train_loader)):\n",
    "            videos = videos.to(device)\n",
    "            labels = labels.to(device)\n",
    "            \n",
    "            optimizer.zero_grad()\n",
    "            \n",
    "            output = model(videos)\n",
    "            loss = criterion(output, labels)\n",
    "            \n",
    "            loss.backward()\n",
    "            optimizer.step()\n",
    "            \n",
    "            train_loss.append(loss.item())\n",
    "                    \n",
    "        _val_loss, _val_score = validation(model, criterion, val_loader, device)\n",
    "        _train_loss = np.mean(train_loss)\n",
    "        print(f'Epoch [{epoch}], Train Loss : [{_train_loss:.5f}] Val Loss : [{_val_loss:.5f}] Val F1 : [{_val_score:.5f}]')\n",
    "        \n",
    "        wandb.log({\n",
    "            'epoch': epoch,\n",
    "            'train_loss': _train_loss,\n",
    "            'val_loss': _val_loss,\n",
    "            'val_f1': _val_score\n",
    "        })\n",
    "\n",
    "        es(_val_loss)\n",
    "\n",
    "        if es.early_stop:\n",
    "            print(\"Early Stopping\")\n",
    "            break\n",
    "    torch.save(model.state_dict(),  'large.pt')\n",
    "        \n",
    "\n",
    "            "
   ]
  },
  {
   "cell_type": "code",
   "execution_count": 12,
   "id": "3f4702d0",
   "metadata": {},
   "outputs": [],
   "source": [
    "def validation(model, criterion, val_loader, device):\n",
    "    model.eval()\n",
    "    val_loss = []\n",
    "    preds, trues = [], []\n",
    "    \n",
    "    with torch.no_grad():\n",
    "        for videos, labels in tqdm(iter(val_loader)):\n",
    "            videos = videos.to(device)\n",
    "            labels = labels.to(device)\n",
    "            \n",
    "            logit = model(videos)\n",
    "            \n",
    "            loss = criterion(logit, labels)\n",
    "            \n",
    "            val_loss.append(loss.item())\n",
    "            \n",
    "            preds += logit.argmax(1).detach().cpu().numpy().tolist()\n",
    "            trues += labels.detach().cpu().numpy().tolist()\n",
    "        \n",
    "        _val_loss = np.mean(val_loss)\n",
    "    \n",
    "    _val_score = f1_score(trues, preds, average='weighted')\n",
    "    return _val_loss, _val_score"
   ]
  },
  {
   "cell_type": "markdown",
   "id": "51da39f9-904f-4abd-a7d2-cdf29c4a6c24",
   "metadata": {},
   "source": [
    "## Run!!"
   ]
  },
  {
   "cell_type": "code",
   "execution_count": 13,
   "id": "86142d9a-68b7-4d04-8423-49d28025411d",
   "metadata": {
    "tags": []
   },
   "outputs": [],
   "source": [
    "model = BaseModel()\n",
    "es = EarlyStopping(patience=10, delta=0.0, mode='min', verbose=True)\n",
    "# model.qconfig = torch.quantization.get_default_qat_qconfig('fbgemm')\n",
    "# torch.quantization.prepare_qat(model, inplace=True)\n",
    "optimizer = torch.optim.AdamW(params = model.parameters(), lr = CFG[\"LEARNING_RATE\"])\n"
   ]
  },
  {
   "cell_type": "code",
   "execution_count": 14,
   "id": "8df59ec2",
   "metadata": {},
   "outputs": [
    {
     "name": "stderr",
     "output_type": "stream",
     "text": [
      "100%|██████████| 17/17 [00:01<00:00, 12.67it/s]\n",
      "100%|██████████| 5/5 [00:00<00:00, 18.96it/s]\n"
     ]
    },
    {
     "name": "stdout",
     "output_type": "stream",
     "text": [
      "Epoch [1], Train Loss : [0.73751] Val Loss : [1.23538] Val F1 : [0.08081]\n",
      "[EarlyStopping] (Update) Best Score: 1.23538\n"
     ]
    },
    {
     "name": "stderr",
     "output_type": "stream",
     "text": [
      "100%|██████████| 17/17 [00:00<00:00, 26.68it/s]\n",
      "100%|██████████| 5/5 [00:00<00:00, 39.64it/s]\n"
     ]
    },
    {
     "name": "stdout",
     "output_type": "stream",
     "text": [
      "Epoch [2], Train Loss : [0.46589] Val Loss : [3.67953] Val F1 : [0.08081]\n",
      "[EarlyStopping] (Patience) 1/10, Best: 1.23538, Current: 3.67953, Delta: 2.44414\n"
     ]
    },
    {
     "name": "stderr",
     "output_type": "stream",
     "text": [
      "100%|██████████| 17/17 [00:00<00:00, 27.68it/s]\n",
      "100%|██████████| 5/5 [00:00<00:00, 42.88it/s]\n"
     ]
    },
    {
     "name": "stdout",
     "output_type": "stream",
     "text": [
      "Epoch [3], Train Loss : [0.52080] Val Loss : [2.62353] Val F1 : [0.18836]\n",
      "[EarlyStopping] (Patience) 2/10, Best: 1.23538, Current: 2.62353, Delta: 1.38815\n"
     ]
    },
    {
     "name": "stderr",
     "output_type": "stream",
     "text": [
      "100%|██████████| 17/17 [00:00<00:00, 27.39it/s]\n",
      "100%|██████████| 5/5 [00:00<00:00, 42.26it/s]\n"
     ]
    },
    {
     "name": "stdout",
     "output_type": "stream",
     "text": [
      "Epoch [4], Train Loss : [0.40730] Val Loss : [1.98235] Val F1 : [0.44444]\n",
      "[EarlyStopping] (Patience) 3/10, Best: 1.23538, Current: 1.98235, Delta: 0.74697\n"
     ]
    },
    {
     "name": "stderr",
     "output_type": "stream",
     "text": [
      "100%|██████████| 17/17 [00:00<00:00, 26.04it/s]\n",
      "100%|██████████| 5/5 [00:00<00:00, 41.00it/s]\n"
     ]
    },
    {
     "name": "stdout",
     "output_type": "stream",
     "text": [
      "Epoch [5], Train Loss : [0.40910] Val Loss : [1.66150] Val F1 : [0.57778]\n",
      "[EarlyStopping] (Patience) 4/10, Best: 1.23538, Current: 1.66150, Delta: 0.42612\n"
     ]
    },
    {
     "name": "stderr",
     "output_type": "stream",
     "text": [
      "100%|██████████| 17/17 [00:00<00:00, 27.12it/s]\n",
      "100%|██████████| 5/5 [00:00<00:00, 41.87it/s]\n"
     ]
    },
    {
     "name": "stdout",
     "output_type": "stream",
     "text": [
      "Epoch [6], Train Loss : [0.31591] Val Loss : [0.74072] Val F1 : [0.64363]\n",
      "[EarlyStopping] (Update) Best Score: 0.74072\n"
     ]
    },
    {
     "name": "stderr",
     "output_type": "stream",
     "text": [
      "100%|██████████| 17/17 [00:00<00:00, 27.35it/s]\n",
      "100%|██████████| 5/5 [00:00<00:00, 42.63it/s]\n"
     ]
    },
    {
     "name": "stdout",
     "output_type": "stream",
     "text": [
      "Epoch [7], Train Loss : [0.31222] Val Loss : [0.62148] Val F1 : [0.74343]\n",
      "[EarlyStopping] (Update) Best Score: 0.62148\n"
     ]
    },
    {
     "name": "stderr",
     "output_type": "stream",
     "text": [
      "100%|██████████| 17/17 [00:00<00:00, 26.98it/s]\n",
      "100%|██████████| 5/5 [00:00<00:00, 43.21it/s]\n"
     ]
    },
    {
     "name": "stdout",
     "output_type": "stream",
     "text": [
      "Epoch [8], Train Loss : [0.38678] Val Loss : [0.85420] Val F1 : [0.84606]\n",
      "[EarlyStopping] (Patience) 1/10, Best: 0.62148, Current: 0.85420, Delta: 0.23272\n"
     ]
    },
    {
     "name": "stderr",
     "output_type": "stream",
     "text": [
      "100%|██████████| 17/17 [00:00<00:00, 27.49it/s]\n",
      "100%|██████████| 5/5 [00:00<00:00, 40.90it/s]\n"
     ]
    },
    {
     "name": "stdout",
     "output_type": "stream",
     "text": [
      "Epoch [9], Train Loss : [0.36083] Val Loss : [0.53094] Val F1 : [0.64363]\n",
      "[EarlyStopping] (Update) Best Score: 0.53094\n"
     ]
    },
    {
     "name": "stderr",
     "output_type": "stream",
     "text": [
      "100%|██████████| 17/17 [00:00<00:00, 27.23it/s]\n",
      "100%|██████████| 5/5 [00:00<00:00, 42.46it/s]\n"
     ]
    },
    {
     "name": "stdout",
     "output_type": "stream",
     "text": [
      "Epoch [10], Train Loss : [0.31638] Val Loss : [0.51793] Val F1 : [0.79630]\n",
      "[EarlyStopping] (Update) Best Score: 0.51793\n"
     ]
    },
    {
     "name": "stderr",
     "output_type": "stream",
     "text": [
      "100%|██████████| 17/17 [00:00<00:00, 26.34it/s]\n",
      "100%|██████████| 5/5 [00:00<00:00, 42.62it/s]\n"
     ]
    },
    {
     "name": "stdout",
     "output_type": "stream",
     "text": [
      "Epoch [11], Train Loss : [0.28351] Val Loss : [0.62490] Val F1 : [0.74343]\n",
      "[EarlyStopping] (Patience) 1/10, Best: 0.51793, Current: 0.62490, Delta: 0.10697\n"
     ]
    },
    {
     "name": "stderr",
     "output_type": "stream",
     "text": [
      "100%|██████████| 17/17 [00:00<00:00, 27.06it/s]\n",
      "100%|██████████| 5/5 [00:00<00:00, 42.40it/s]\n"
     ]
    },
    {
     "name": "stdout",
     "output_type": "stream",
     "text": [
      "Epoch [12], Train Loss : [0.33647] Val Loss : [0.63273] Val F1 : [0.79630]\n",
      "[EarlyStopping] (Patience) 2/10, Best: 0.51793, Current: 0.63273, Delta: 0.11480\n"
     ]
    },
    {
     "name": "stderr",
     "output_type": "stream",
     "text": [
      "100%|██████████| 17/17 [00:00<00:00, 27.43it/s]\n",
      "100%|██████████| 5/5 [00:00<00:00, 41.71it/s]\n"
     ]
    },
    {
     "name": "stdout",
     "output_type": "stream",
     "text": [
      "Epoch [13], Train Loss : [0.25832] Val Loss : [1.10789] Val F1 : [0.74545]\n",
      "[EarlyStopping] (Patience) 3/10, Best: 0.51793, Current: 1.10789, Delta: 0.58996\n"
     ]
    },
    {
     "name": "stderr",
     "output_type": "stream",
     "text": [
      "100%|██████████| 17/17 [00:00<00:00, 26.87it/s]\n",
      "100%|██████████| 5/5 [00:00<00:00, 43.15it/s]\n"
     ]
    },
    {
     "name": "stdout",
     "output_type": "stream",
     "text": [
      "Epoch [14], Train Loss : [0.23373] Val Loss : [0.57999] Val F1 : [0.84606]\n",
      "[EarlyStopping] (Patience) 4/10, Best: 0.51793, Current: 0.57999, Delta: 0.06206\n"
     ]
    },
    {
     "name": "stderr",
     "output_type": "stream",
     "text": [
      "100%|██████████| 17/17 [00:00<00:00, 27.55it/s]\n",
      "100%|██████████| 5/5 [00:00<00:00, 38.63it/s]\n"
     ]
    },
    {
     "name": "stdout",
     "output_type": "stream",
     "text": [
      "Epoch [15], Train Loss : [0.22329] Val Loss : [0.53830] Val F1 : [0.69444]\n",
      "[EarlyStopping] (Patience) 5/10, Best: 0.51793, Current: 0.53830, Delta: 0.02037\n"
     ]
    },
    {
     "name": "stderr",
     "output_type": "stream",
     "text": [
      "100%|██████████| 17/17 [00:00<00:00, 26.90it/s]\n",
      "100%|██████████| 5/5 [00:00<00:00, 38.00it/s]\n"
     ]
    },
    {
     "name": "stdout",
     "output_type": "stream",
     "text": [
      "Epoch [16], Train Loss : [0.22064] Val Loss : [0.41565] Val F1 : [0.74343]\n",
      "[EarlyStopping] (Update) Best Score: 0.41565\n"
     ]
    },
    {
     "name": "stderr",
     "output_type": "stream",
     "text": [
      "100%|██████████| 17/17 [00:00<00:00, 26.42it/s]\n",
      "100%|██████████| 5/5 [00:00<00:00, 41.93it/s]\n"
     ]
    },
    {
     "name": "stdout",
     "output_type": "stream",
     "text": [
      "Epoch [17], Train Loss : [0.25641] Val Loss : [0.71793] Val F1 : [0.79630]\n",
      "[EarlyStopping] (Patience) 1/10, Best: 0.41565, Current: 0.71793, Delta: 0.30227\n"
     ]
    },
    {
     "name": "stderr",
     "output_type": "stream",
     "text": [
      "100%|██████████| 17/17 [00:00<00:00, 26.41it/s]\n",
      "100%|██████████| 5/5 [00:00<00:00, 42.56it/s]\n"
     ]
    },
    {
     "name": "stdout",
     "output_type": "stream",
     "text": [
      "Epoch [18], Train Loss : [0.29533] Val Loss : [0.39261] Val F1 : [0.79145]\n",
      "[EarlyStopping] (Update) Best Score: 0.39261\n"
     ]
    },
    {
     "name": "stderr",
     "output_type": "stream",
     "text": [
      "100%|██████████| 17/17 [00:00<00:00, 26.27it/s]\n",
      "100%|██████████| 5/5 [00:00<00:00, 42.03it/s]\n"
     ]
    },
    {
     "name": "stdout",
     "output_type": "stream",
     "text": [
      "Epoch [19], Train Loss : [0.17794] Val Loss : [0.68645] Val F1 : [0.79630]\n",
      "[EarlyStopping] (Patience) 1/10, Best: 0.39261, Current: 0.68645, Delta: 0.29385\n"
     ]
    },
    {
     "name": "stderr",
     "output_type": "stream",
     "text": [
      "100%|██████████| 17/17 [00:00<00:00, 26.88it/s]\n",
      "100%|██████████| 5/5 [00:00<00:00, 41.95it/s]\n"
     ]
    },
    {
     "name": "stdout",
     "output_type": "stream",
     "text": [
      "Epoch [20], Train Loss : [0.18889] Val Loss : [0.51336] Val F1 : [0.79145]\n",
      "[EarlyStopping] (Patience) 2/10, Best: 0.39261, Current: 0.51336, Delta: 0.12076\n"
     ]
    },
    {
     "name": "stderr",
     "output_type": "stream",
     "text": [
      "100%|██████████| 17/17 [00:00<00:00, 25.94it/s]\n",
      "100%|██████████| 5/5 [00:00<00:00, 41.56it/s]\n"
     ]
    },
    {
     "name": "stdout",
     "output_type": "stream",
     "text": [
      "Epoch [21], Train Loss : [0.13654] Val Loss : [0.73155] Val F1 : [0.79630]\n",
      "[EarlyStopping] (Patience) 3/10, Best: 0.39261, Current: 0.73155, Delta: 0.33894\n"
     ]
    },
    {
     "name": "stderr",
     "output_type": "stream",
     "text": [
      "100%|██████████| 17/17 [00:00<00:00, 25.81it/s]\n",
      "100%|██████████| 5/5 [00:00<00:00, 42.62it/s]\n"
     ]
    },
    {
     "name": "stdout",
     "output_type": "stream",
     "text": [
      "Epoch [22], Train Loss : [0.15752] Val Loss : [0.37261] Val F1 : [0.84606]\n",
      "[EarlyStopping] (Update) Best Score: 0.37261\n"
     ]
    },
    {
     "name": "stderr",
     "output_type": "stream",
     "text": [
      "100%|██████████| 17/17 [00:00<00:00, 26.42it/s]\n",
      "100%|██████████| 5/5 [00:00<00:00, 42.19it/s]\n"
     ]
    },
    {
     "name": "stdout",
     "output_type": "stream",
     "text": [
      "Epoch [23], Train Loss : [0.34075] Val Loss : [0.63436] Val F1 : [0.74343]\n",
      "[EarlyStopping] (Patience) 1/10, Best: 0.37261, Current: 0.63436, Delta: 0.26175\n"
     ]
    },
    {
     "name": "stderr",
     "output_type": "stream",
     "text": [
      "100%|██████████| 17/17 [00:00<00:00, 26.88it/s]\n",
      "100%|██████████| 5/5 [00:00<00:00, 41.34it/s]\n"
     ]
    },
    {
     "name": "stdout",
     "output_type": "stream",
     "text": [
      "Epoch [24], Train Loss : [0.19992] Val Loss : [0.57209] Val F1 : [0.69444]\n",
      "[EarlyStopping] (Patience) 2/10, Best: 0.37261, Current: 0.57209, Delta: 0.19948\n"
     ]
    },
    {
     "name": "stderr",
     "output_type": "stream",
     "text": [
      "100%|██████████| 17/17 [00:00<00:00, 26.74it/s]\n",
      "100%|██████████| 5/5 [00:00<00:00, 42.26it/s]\n"
     ]
    },
    {
     "name": "stdout",
     "output_type": "stream",
     "text": [
      "Epoch [25], Train Loss : [0.09872] Val Loss : [0.41118] Val F1 : [0.79145]\n",
      "[EarlyStopping] (Patience) 3/10, Best: 0.37261, Current: 0.41118, Delta: 0.03857\n"
     ]
    },
    {
     "name": "stderr",
     "output_type": "stream",
     "text": [
      "100%|██████████| 17/17 [00:00<00:00, 26.18it/s]\n",
      "100%|██████████| 5/5 [00:00<00:00, 41.90it/s]\n"
     ]
    },
    {
     "name": "stdout",
     "output_type": "stream",
     "text": [
      "Epoch [26], Train Loss : [0.19031] Val Loss : [0.61609] Val F1 : [0.84606]\n",
      "[EarlyStopping] (Patience) 4/10, Best: 0.37261, Current: 0.61609, Delta: 0.24347\n"
     ]
    },
    {
     "name": "stderr",
     "output_type": "stream",
     "text": [
      "100%|██████████| 17/17 [00:00<00:00, 25.97it/s]\n",
      "100%|██████████| 5/5 [00:00<00:00, 39.49it/s]\n"
     ]
    },
    {
     "name": "stdout",
     "output_type": "stream",
     "text": [
      "Epoch [27], Train Loss : [0.23831] Val Loss : [0.66131] Val F1 : [0.74545]\n",
      "[EarlyStopping] (Patience) 5/10, Best: 0.37261, Current: 0.66131, Delta: 0.28870\n"
     ]
    },
    {
     "name": "stderr",
     "output_type": "stream",
     "text": [
      "100%|██████████| 17/17 [00:00<00:00, 26.61it/s]\n",
      "100%|██████████| 5/5 [00:00<00:00, 42.70it/s]\n"
     ]
    },
    {
     "name": "stdout",
     "output_type": "stream",
     "text": [
      "Epoch [28], Train Loss : [0.17715] Val Loss : [0.30915] Val F1 : [0.89573]\n",
      "[EarlyStopping] (Update) Best Score: 0.30915\n"
     ]
    },
    {
     "name": "stderr",
     "output_type": "stream",
     "text": [
      "100%|██████████| 17/17 [00:00<00:00, 25.97it/s]\n",
      "100%|██████████| 5/5 [00:00<00:00, 42.38it/s]\n"
     ]
    },
    {
     "name": "stdout",
     "output_type": "stream",
     "text": [
      "Epoch [29], Train Loss : [0.12234] Val Loss : [0.50101] Val F1 : [0.79630]\n",
      "[EarlyStopping] (Patience) 1/10, Best: 0.30915, Current: 0.50101, Delta: 0.19187\n"
     ]
    },
    {
     "name": "stderr",
     "output_type": "stream",
     "text": [
      "100%|██████████| 17/17 [00:00<00:00, 26.17it/s]\n",
      "100%|██████████| 5/5 [00:00<00:00, 42.04it/s]\n"
     ]
    },
    {
     "name": "stdout",
     "output_type": "stream",
     "text": [
      "Epoch [30], Train Loss : [0.13610] Val Loss : [0.41064] Val F1 : [0.79145]\n",
      "[EarlyStopping] (Patience) 2/10, Best: 0.30915, Current: 0.41064, Delta: 0.10150\n"
     ]
    },
    {
     "name": "stderr",
     "output_type": "stream",
     "text": [
      "100%|██████████| 17/17 [00:00<00:00, 26.83it/s]\n",
      "100%|██████████| 5/5 [00:00<00:00, 41.20it/s]\n"
     ]
    },
    {
     "name": "stdout",
     "output_type": "stream",
     "text": [
      "Epoch [31], Train Loss : [0.28987] Val Loss : [0.47691] Val F1 : [0.84606]\n",
      "[EarlyStopping] (Patience) 3/10, Best: 0.30915, Current: 0.47691, Delta: 0.16777\n"
     ]
    },
    {
     "name": "stderr",
     "output_type": "stream",
     "text": [
      "100%|██████████| 17/17 [00:00<00:00, 26.43it/s]\n",
      "100%|██████████| 5/5 [00:00<00:00, 43.13it/s]\n"
     ]
    },
    {
     "name": "stdout",
     "output_type": "stream",
     "text": [
      "Epoch [32], Train Loss : [0.16654] Val Loss : [0.46300] Val F1 : [0.77778]\n",
      "[EarlyStopping] (Patience) 4/10, Best: 0.30915, Current: 0.46300, Delta: 0.15386\n"
     ]
    },
    {
     "name": "stderr",
     "output_type": "stream",
     "text": [
      "100%|██████████| 17/17 [00:00<00:00, 26.99it/s]\n",
      "100%|██████████| 5/5 [00:00<00:00, 43.04it/s]\n"
     ]
    },
    {
     "name": "stdout",
     "output_type": "stream",
     "text": [
      "Epoch [33], Train Loss : [0.13622] Val Loss : [0.58470] Val F1 : [0.79630]\n",
      "[EarlyStopping] (Patience) 5/10, Best: 0.30915, Current: 0.58470, Delta: 0.27555\n"
     ]
    },
    {
     "name": "stderr",
     "output_type": "stream",
     "text": [
      "100%|██████████| 17/17 [00:00<00:00, 27.38it/s]\n",
      "100%|██████████| 5/5 [00:00<00:00, 42.56it/s]\n"
     ]
    },
    {
     "name": "stdout",
     "output_type": "stream",
     "text": [
      "Epoch [34], Train Loss : [0.14370] Val Loss : [0.34470] Val F1 : [0.84606]\n",
      "[EarlyStopping] (Patience) 6/10, Best: 0.30915, Current: 0.34470, Delta: 0.03556\n"
     ]
    },
    {
     "name": "stderr",
     "output_type": "stream",
     "text": [
      "100%|██████████| 17/17 [00:00<00:00, 25.55it/s]\n",
      "100%|██████████| 5/5 [00:00<00:00, 39.66it/s]\n"
     ]
    },
    {
     "name": "stdout",
     "output_type": "stream",
     "text": [
      "Epoch [35], Train Loss : [0.17901] Val Loss : [0.27647] Val F1 : [0.83951]\n",
      "[EarlyStopping] (Update) Best Score: 0.27647\n"
     ]
    },
    {
     "name": "stderr",
     "output_type": "stream",
     "text": [
      "100%|██████████| 17/17 [00:00<00:00, 26.06it/s]\n",
      "100%|██████████| 5/5 [00:00<00:00, 41.73it/s]\n"
     ]
    },
    {
     "name": "stdout",
     "output_type": "stream",
     "text": [
      "Epoch [36], Train Loss : [0.15501] Val Loss : [0.19724] Val F1 : [0.88889]\n",
      "[EarlyStopping] (Update) Best Score: 0.19724\n"
     ]
    },
    {
     "name": "stderr",
     "output_type": "stream",
     "text": [
      "100%|██████████| 17/17 [00:00<00:00, 26.98it/s]\n",
      "100%|██████████| 5/5 [00:00<00:00, 42.52it/s]\n"
     ]
    },
    {
     "name": "stdout",
     "output_type": "stream",
     "text": [
      "Epoch [37], Train Loss : [0.17734] Val Loss : [0.63176] Val F1 : [0.79145]\n",
      "[EarlyStopping] (Patience) 1/10, Best: 0.19724, Current: 0.63176, Delta: 0.43451\n"
     ]
    },
    {
     "name": "stderr",
     "output_type": "stream",
     "text": [
      "100%|██████████| 17/17 [00:00<00:00, 27.38it/s]\n",
      "100%|██████████| 5/5 [00:00<00:00, 40.56it/s]\n"
     ]
    },
    {
     "name": "stdout",
     "output_type": "stream",
     "text": [
      "Epoch [38], Train Loss : [0.10845] Val Loss : [0.60725] Val F1 : [0.74545]\n",
      "[EarlyStopping] (Patience) 2/10, Best: 0.19724, Current: 0.60725, Delta: 0.41001\n"
     ]
    },
    {
     "name": "stderr",
     "output_type": "stream",
     "text": [
      "100%|██████████| 17/17 [00:00<00:00, 26.74it/s]\n",
      "100%|██████████| 5/5 [00:00<00:00, 42.33it/s]\n"
     ]
    },
    {
     "name": "stdout",
     "output_type": "stream",
     "text": [
      "Epoch [39], Train Loss : [0.15105] Val Loss : [0.74163] Val F1 : [0.74343]\n",
      "[EarlyStopping] (Patience) 3/10, Best: 0.19724, Current: 0.74163, Delta: 0.54439\n"
     ]
    },
    {
     "name": "stderr",
     "output_type": "stream",
     "text": [
      "100%|██████████| 17/17 [00:00<00:00, 26.73it/s]\n",
      "100%|██████████| 5/5 [00:00<00:00, 42.52it/s]\n"
     ]
    },
    {
     "name": "stdout",
     "output_type": "stream",
     "text": [
      "Epoch [40], Train Loss : [0.22653] Val Loss : [0.25929] Val F1 : [0.88889]\n",
      "[EarlyStopping] (Patience) 4/10, Best: 0.19724, Current: 0.25929, Delta: 0.06205\n"
     ]
    },
    {
     "name": "stderr",
     "output_type": "stream",
     "text": [
      "100%|██████████| 17/17 [00:00<00:00, 26.38it/s]\n",
      "100%|██████████| 5/5 [00:00<00:00, 42.07it/s]\n"
     ]
    },
    {
     "name": "stdout",
     "output_type": "stream",
     "text": [
      "Epoch [41], Train Loss : [0.10933] Val Loss : [0.64569] Val F1 : [0.74343]\n",
      "[EarlyStopping] (Patience) 5/10, Best: 0.19724, Current: 0.64569, Delta: 0.44845\n"
     ]
    },
    {
     "name": "stderr",
     "output_type": "stream",
     "text": [
      "100%|██████████| 17/17 [00:00<00:00, 27.52it/s]\n",
      "100%|██████████| 5/5 [00:00<00:00, 41.29it/s]\n"
     ]
    },
    {
     "name": "stdout",
     "output_type": "stream",
     "text": [
      "Epoch [42], Train Loss : [0.05371] Val Loss : [0.15933] Val F1 : [0.94143]\n",
      "[EarlyStopping] (Update) Best Score: 0.15933\n"
     ]
    },
    {
     "name": "stderr",
     "output_type": "stream",
     "text": [
      "100%|██████████| 17/17 [00:00<00:00, 26.76it/s]\n",
      "100%|██████████| 5/5 [00:00<00:00, 42.81it/s]\n"
     ]
    },
    {
     "name": "stdout",
     "output_type": "stream",
     "text": [
      "Epoch [43], Train Loss : [0.12610] Val Loss : [0.32408] Val F1 : [0.84606]\n",
      "[EarlyStopping] (Patience) 1/10, Best: 0.15933, Current: 0.32408, Delta: 0.16475\n"
     ]
    },
    {
     "name": "stderr",
     "output_type": "stream",
     "text": [
      "100%|██████████| 17/17 [00:00<00:00, 27.27it/s]\n",
      "100%|██████████| 5/5 [00:00<00:00, 42.82it/s]\n"
     ]
    },
    {
     "name": "stdout",
     "output_type": "stream",
     "text": [
      "Epoch [44], Train Loss : [0.14581] Val Loss : [0.21603] Val F1 : [0.87407]\n",
      "[EarlyStopping] (Patience) 2/10, Best: 0.15933, Current: 0.21603, Delta: 0.05670\n"
     ]
    },
    {
     "name": "stderr",
     "output_type": "stream",
     "text": [
      "100%|██████████| 17/17 [00:00<00:00, 27.32it/s]\n",
      "100%|██████████| 5/5 [00:00<00:00, 41.46it/s]\n"
     ]
    },
    {
     "name": "stdout",
     "output_type": "stream",
     "text": [
      "Epoch [45], Train Loss : [0.15721] Val Loss : [0.45182] Val F1 : [0.79630]\n",
      "[EarlyStopping] (Patience) 3/10, Best: 0.15933, Current: 0.45182, Delta: 0.29249\n"
     ]
    },
    {
     "name": "stderr",
     "output_type": "stream",
     "text": [
      "100%|██████████| 17/17 [00:00<00:00, 26.71it/s]\n",
      "100%|██████████| 5/5 [00:00<00:00, 41.00it/s]\n"
     ]
    },
    {
     "name": "stdout",
     "output_type": "stream",
     "text": [
      "Epoch [46], Train Loss : [0.15505] Val Loss : [0.16391] Val F1 : [0.88889]\n",
      "[EarlyStopping] (Patience) 4/10, Best: 0.15933, Current: 0.16391, Delta: 0.00458\n"
     ]
    },
    {
     "name": "stderr",
     "output_type": "stream",
     "text": [
      "100%|██████████| 17/17 [00:00<00:00, 26.17it/s]\n",
      "100%|██████████| 5/5 [00:00<00:00, 42.11it/s]\n"
     ]
    },
    {
     "name": "stdout",
     "output_type": "stream",
     "text": [
      "Epoch [47], Train Loss : [0.08752] Val Loss : [0.28297] Val F1 : [0.84606]\n",
      "[EarlyStopping] (Patience) 5/10, Best: 0.15933, Current: 0.28297, Delta: 0.12364\n"
     ]
    },
    {
     "name": "stderr",
     "output_type": "stream",
     "text": [
      "100%|██████████| 17/17 [00:00<00:00, 25.88it/s]\n",
      "100%|██████████| 5/5 [00:00<00:00, 42.73it/s]\n"
     ]
    },
    {
     "name": "stdout",
     "output_type": "stream",
     "text": [
      "Epoch [48], Train Loss : [0.11186] Val Loss : [0.40343] Val F1 : [0.79145]\n",
      "[EarlyStopping] (Patience) 6/10, Best: 0.15933, Current: 0.40343, Delta: 0.24410\n"
     ]
    },
    {
     "name": "stderr",
     "output_type": "stream",
     "text": [
      "100%|██████████| 17/17 [00:00<00:00, 26.15it/s]\n",
      "100%|██████████| 5/5 [00:00<00:00, 42.32it/s]\n"
     ]
    },
    {
     "name": "stdout",
     "output_type": "stream",
     "text": [
      "Epoch [49], Train Loss : [0.13321] Val Loss : [0.25702] Val F1 : [0.88889]\n",
      "[EarlyStopping] (Patience) 7/10, Best: 0.15933, Current: 0.25702, Delta: 0.09769\n"
     ]
    },
    {
     "name": "stderr",
     "output_type": "stream",
     "text": [
      "100%|██████████| 17/17 [00:00<00:00, 25.64it/s]\n",
      "100%|██████████| 5/5 [00:00<00:00, 41.58it/s]\n"
     ]
    },
    {
     "name": "stdout",
     "output_type": "stream",
     "text": [
      "Epoch [50], Train Loss : [0.10361] Val Loss : [0.51204] Val F1 : [0.89573]\n",
      "[EarlyStopping] (Patience) 8/10, Best: 0.15933, Current: 0.51204, Delta: 0.35270\n"
     ]
    },
    {
     "name": "stderr",
     "output_type": "stream",
     "text": [
      "100%|██████████| 17/17 [00:00<00:00, 26.21it/s]\n",
      "100%|██████████| 5/5 [00:00<00:00, 41.02it/s]\n"
     ]
    },
    {
     "name": "stdout",
     "output_type": "stream",
     "text": [
      "Epoch [51], Train Loss : [0.26503] Val Loss : [0.48418] Val F1 : [0.79630]\n",
      "[EarlyStopping] (Patience) 9/10, Best: 0.15933, Current: 0.48418, Delta: 0.32484\n"
     ]
    },
    {
     "name": "stderr",
     "output_type": "stream",
     "text": [
      "100%|██████████| 17/17 [00:00<00:00, 25.79it/s]\n",
      "100%|██████████| 5/5 [00:00<00:00, 41.54it/s]\n"
     ]
    },
    {
     "name": "stdout",
     "output_type": "stream",
     "text": [
      "Epoch [52], Train Loss : [0.05481] Val Loss : [0.15281] Val F1 : [0.88889]\n",
      "[EarlyStopping] (Update) Best Score: 0.15281\n"
     ]
    },
    {
     "name": "stderr",
     "output_type": "stream",
     "text": [
      "100%|██████████| 17/17 [00:00<00:00, 26.40it/s]\n",
      "100%|██████████| 5/5 [00:00<00:00, 41.83it/s]\n"
     ]
    },
    {
     "name": "stdout",
     "output_type": "stream",
     "text": [
      "Epoch [53], Train Loss : [0.05167] Val Loss : [0.24309] Val F1 : [0.89573]\n",
      "[EarlyStopping] (Patience) 1/10, Best: 0.15281, Current: 0.24309, Delta: 0.09028\n"
     ]
    },
    {
     "name": "stderr",
     "output_type": "stream",
     "text": [
      "100%|██████████| 17/17 [00:00<00:00, 26.64it/s]\n",
      "100%|██████████| 5/5 [00:00<00:00, 40.27it/s]\n"
     ]
    },
    {
     "name": "stdout",
     "output_type": "stream",
     "text": [
      "Epoch [54], Train Loss : [0.24818] Val Loss : [0.26857] Val F1 : [0.89573]\n",
      "[EarlyStopping] (Patience) 2/10, Best: 0.15281, Current: 0.26857, Delta: 0.11576\n"
     ]
    },
    {
     "name": "stderr",
     "output_type": "stream",
     "text": [
      "100%|██████████| 17/17 [00:00<00:00, 25.74it/s]\n",
      "100%|██████████| 5/5 [00:00<00:00, 42.23it/s]\n"
     ]
    },
    {
     "name": "stdout",
     "output_type": "stream",
     "text": [
      "Epoch [55], Train Loss : [0.11296] Val Loss : [0.34068] Val F1 : [0.89573]\n",
      "[EarlyStopping] (Patience) 3/10, Best: 0.15281, Current: 0.34068, Delta: 0.18787\n"
     ]
    },
    {
     "name": "stderr",
     "output_type": "stream",
     "text": [
      "100%|██████████| 17/17 [00:00<00:00, 25.86it/s]\n",
      "100%|██████████| 5/5 [00:00<00:00, 41.50it/s]\n"
     ]
    },
    {
     "name": "stdout",
     "output_type": "stream",
     "text": [
      "Epoch [56], Train Loss : [0.34658] Val Loss : [0.25020] Val F1 : [0.84606]\n",
      "[EarlyStopping] (Patience) 4/10, Best: 0.15281, Current: 0.25020, Delta: 0.09739\n"
     ]
    },
    {
     "name": "stderr",
     "output_type": "stream",
     "text": [
      "100%|██████████| 17/17 [00:00<00:00, 25.87it/s]\n",
      "100%|██████████| 5/5 [00:00<00:00, 41.49it/s]\n"
     ]
    },
    {
     "name": "stdout",
     "output_type": "stream",
     "text": [
      "Epoch [57], Train Loss : [0.07443] Val Loss : [0.27736] Val F1 : [0.84606]\n",
      "[EarlyStopping] (Patience) 5/10, Best: 0.15281, Current: 0.27736, Delta: 0.12455\n"
     ]
    },
    {
     "name": "stderr",
     "output_type": "stream",
     "text": [
      "100%|██████████| 17/17 [00:00<00:00, 25.66it/s]\n",
      "100%|██████████| 5/5 [00:00<00:00, 40.49it/s]\n"
     ]
    },
    {
     "name": "stdout",
     "output_type": "stream",
     "text": [
      "Epoch [58], Train Loss : [0.12258] Val Loss : [0.57006] Val F1 : [0.84606]\n",
      "[EarlyStopping] (Patience) 6/10, Best: 0.15281, Current: 0.57006, Delta: 0.41725\n"
     ]
    },
    {
     "name": "stderr",
     "output_type": "stream",
     "text": [
      "100%|██████████| 17/17 [00:00<00:00, 25.53it/s]\n",
      "100%|██████████| 5/5 [00:00<00:00, 39.43it/s]\n"
     ]
    },
    {
     "name": "stdout",
     "output_type": "stream",
     "text": [
      "Epoch [59], Train Loss : [0.08844] Val Loss : [0.91738] Val F1 : [0.68718]\n",
      "[EarlyStopping] (Patience) 7/10, Best: 0.15281, Current: 0.91738, Delta: 0.76457\n"
     ]
    },
    {
     "name": "stderr",
     "output_type": "stream",
     "text": [
      "100%|██████████| 17/17 [00:00<00:00, 26.74it/s]\n",
      "100%|██████████| 5/5 [00:00<00:00, 39.63it/s]\n"
     ]
    },
    {
     "name": "stdout",
     "output_type": "stream",
     "text": [
      "Epoch [60], Train Loss : [0.13002] Val Loss : [0.32097] Val F1 : [0.84606]\n",
      "[EarlyStopping] (Patience) 8/10, Best: 0.15281, Current: 0.32097, Delta: 0.16816\n"
     ]
    },
    {
     "name": "stderr",
     "output_type": "stream",
     "text": [
      "100%|██████████| 17/17 [00:00<00:00, 26.63it/s]\n",
      "100%|██████████| 5/5 [00:00<00:00, 32.35it/s]\n"
     ]
    },
    {
     "name": "stdout",
     "output_type": "stream",
     "text": [
      "Epoch [61], Train Loss : [0.07262] Val Loss : [0.23092] Val F1 : [0.89573]\n",
      "[EarlyStopping] (Patience) 9/10, Best: 0.15281, Current: 0.23092, Delta: 0.07811\n"
     ]
    },
    {
     "name": "stderr",
     "output_type": "stream",
     "text": [
      "100%|██████████| 17/17 [00:00<00:00, 21.54it/s]\n",
      "100%|██████████| 5/5 [00:00<00:00, 41.25it/s]"
     ]
    },
    {
     "name": "stdout",
     "output_type": "stream",
     "text": [
      "Epoch [62], Train Loss : [0.06306] Val Loss : [0.24703] Val F1 : [0.89573]\n",
      "[EarlyStopping] (Patience) 10/10, Best: 0.15281, Current: 0.24703, Delta: 0.09422\n",
      "[EarlyStop Triggered] Best Score: 0.15281\n",
      "Early Stopping\n"
     ]
    },
    {
     "name": "stderr",
     "output_type": "stream",
     "text": [
      "\n"
     ]
    }
   ],
   "source": [
    "train(model, optimizer, train_loader, valid_loader, device)"
   ]
  },
  {
   "cell_type": "code",
   "execution_count": 15,
   "id": "d6d88f1a",
   "metadata": {},
   "outputs": [
    {
     "data": {
      "text/plain": [
       "BaseModel(\n",
       "  (feature_extract): Sequential(\n",
       "    (0): Conv3d(1, 8, kernel_size=(1, 3, 3), stride=(1, 1, 1))\n",
       "    (1): ReLU()\n",
       "    (2): BatchNorm3d(8, eps=1e-05, momentum=0.1, affine=True, track_running_stats=True)\n",
       "    (3): MaxPool3d(kernel_size=(1, 2, 2), stride=(1, 2, 2), padding=0, dilation=1, ceil_mode=False)\n",
       "    (4): Conv3d(8, 32, kernel_size=(1, 3, 3), stride=(1, 1, 1))\n",
       "    (5): ReLU()\n",
       "    (6): BatchNorm3d(32, eps=1e-05, momentum=0.1, affine=True, track_running_stats=True)\n",
       "    (7): MaxPool3d(kernel_size=(1, 2, 2), stride=(1, 2, 2), padding=0, dilation=1, ceil_mode=False)\n",
       "    (8): Conv3d(32, 64, kernel_size=(1, 3, 3), stride=(1, 1, 1))\n",
       "    (9): ReLU()\n",
       "    (10): BatchNorm3d(64, eps=1e-05, momentum=0.1, affine=True, track_running_stats=True)\n",
       "    (11): MaxPool3d(kernel_size=(1, 2, 2), stride=(1, 2, 2), padding=0, dilation=1, ceil_mode=False)\n",
       "    (12): Conv3d(64, 128, kernel_size=(1, 3, 3), stride=(1, 1, 1))\n",
       "    (13): ReLU()\n",
       "    (14): BatchNorm3d(128, eps=1e-05, momentum=0.1, affine=True, track_running_stats=True)\n",
       "    (15): Conv3d(128, 256, kernel_size=(1, 3, 3), stride=(1, 1, 1))\n",
       "    (16): ReLU()\n",
       "    (17): BatchNorm3d(256, eps=1e-05, momentum=0.1, affine=True, track_running_stats=True)\n",
       "    (18): AdaptiveAvgPool3d(output_size=(1, 1, 1))\n",
       "  )\n",
       "  (classifier): Linear(in_features=256, out_features=2, bias=True)\n",
       ")"
      ]
     },
     "execution_count": 15,
     "metadata": {},
     "output_type": "execute_result"
    }
   ],
   "source": [
    "model.load_state_dict(torch.load('large.pt'))\n",
    "model.eval()"
   ]
  },
  {
   "cell_type": "markdown",
   "id": "d32efed9-ec88-40fc-83d2-e995e48c372a",
   "metadata": {},
   "source": [
    "## Inference"
   ]
  },
  {
   "cell_type": "code",
   "execution_count": 16,
   "id": "a1bc676a-5216-4e1a-ac2c-3e940e8a3909",
   "metadata": {},
   "outputs": [],
   "source": [
    "test_dataset = CustomDataset(CFG[\"TEST_DIR\"])\n",
    "test_loader = DataLoader(test_dataset, batch_size = CFG['BATCH_SIZE'], shuffle=False, num_workers=0)"
   ]
  },
  {
   "cell_type": "code",
   "execution_count": 17,
   "id": "acc072b1-3749-4a0a-8c3b-80ef39a2fd56",
   "metadata": {},
   "outputs": [],
   "source": [
    "def inference(model, test_loader, device):\n",
    "    model.to(device)\n",
    "    model.eval()\n",
    "    preds = []\n",
    "    true_labels = []\n",
    "    with torch.no_grad():\n",
    "        for videos, labels in tqdm(iter(test_loader)):\n",
    "            videos = videos.to(device)\n",
    "            \n",
    "            logit = model(videos)\n",
    "\n",
    "            preds += logit.argmax(1).detach().cpu().numpy().tolist()\n",
    "            true_labels += labels.detach().cpu().numpy().tolist()\n",
    "\n",
    "\n",
    "    f1 = f1_score(true_labels, preds, average='weighted') \n",
    "    print(f\"f1 score = [{f1}]\")\n",
    "\n",
    "    return preds, f1"
   ]
  },
  {
   "cell_type": "code",
   "execution_count": 18,
   "id": "9fcce1a1-995c-403b-9229-f4253dd5c702",
   "metadata": {},
   "outputs": [
    {
     "name": "stderr",
     "output_type": "stream",
     "text": [
      "100%|██████████| 6/6 [00:00<00:00, 22.44it/s]"
     ]
    },
    {
     "name": "stdout",
     "output_type": "stream",
     "text": [
      "f1 score = [0.9095238095238096]\n"
     ]
    },
    {
     "name": "stderr",
     "output_type": "stream",
     "text": [
      "\n"
     ]
    },
    {
     "name": "stderr",
     "output_type": "stream",
     "text": [
      "wandb: ERROR Error while calling W&B API: context deadline exceeded (<Response [500]>)\n",
      "wandb: ERROR Error while calling W&B API: context deadline exceeded (<Response [500]>)\n",
      "wandb: ERROR Error while calling W&B API: context deadline exceeded (<Response [500]>)\n"
     ]
    }
   ],
   "source": [
    "preds, f1 = inference(model, test_loader, device)"
   ]
  },
  {
   "cell_type": "code",
   "execution_count": 19,
   "id": "2ee1382a",
   "metadata": {},
   "outputs": [],
   "source": [
    "from torchviz import make_dot\n"
   ]
  },
  {
   "cell_type": "code",
   "execution_count": 27,
   "id": "b2b68aba",
   "metadata": {},
   "outputs": [
    {
     "data": {
      "text/plain": [
       "'model.png'"
      ]
     },
     "execution_count": 27,
     "metadata": {},
     "output_type": "execute_result"
    }
   ],
   "source": [
    "x = torch.zeros(1, 1, 50, 64, 64).to(device)\n",
    "make_dot(model(x), params=dict(model.named_parameters()), show_attrs=True, show_saved=True).render(\"model\", format='png')"
   ]
  },
  {
   "cell_type": "code",
   "execution_count": 30,
   "id": "ec4d0031",
   "metadata": {},
   "outputs": [],
   "source": [
    "dummy_data = torch.empty(1, 1, 50, 64, 64, dtype = torch.float32).to(device)\n",
    "torch.onnx.export(model, dummy_data, \"output.onnx\")"
   ]
  },
  {
   "cell_type": "code",
   "execution_count": 32,
   "id": "c1a777f1",
   "metadata": {},
   "outputs": [
    {
     "data": {
      "text/plain": [
       "==========================================================================================\n",
       "Layer (type:depth-idx)                   Output Shape              Param #\n",
       "==========================================================================================\n",
       "BaseModel                                [1, 2]                    --\n",
       "├─Sequential: 1-1                        [1, 256, 1, 1, 1]         --\n",
       "│    └─Conv3d: 2-1                       [1, 8, 50, 62, 62]        80\n",
       "│    └─ReLU: 2-2                         [1, 8, 50, 62, 62]        --\n",
       "│    └─BatchNorm3d: 2-3                  [1, 8, 50, 62, 62]        16\n",
       "│    └─MaxPool3d: 2-4                    [1, 8, 50, 31, 31]        --\n",
       "│    └─Conv3d: 2-5                       [1, 32, 50, 29, 29]       2,336\n",
       "│    └─ReLU: 2-6                         [1, 32, 50, 29, 29]       --\n",
       "│    └─BatchNorm3d: 2-7                  [1, 32, 50, 29, 29]       64\n",
       "│    └─MaxPool3d: 2-8                    [1, 32, 50, 14, 14]       --\n",
       "│    └─Conv3d: 2-9                       [1, 64, 50, 12, 12]       18,496\n",
       "│    └─ReLU: 2-10                        [1, 64, 50, 12, 12]       --\n",
       "│    └─BatchNorm3d: 2-11                 [1, 64, 50, 12, 12]       128\n",
       "│    └─MaxPool3d: 2-12                   [1, 64, 50, 6, 6]         --\n",
       "│    └─Conv3d: 2-13                      [1, 128, 50, 4, 4]        73,856\n",
       "│    └─ReLU: 2-14                        [1, 128, 50, 4, 4]        --\n",
       "│    └─BatchNorm3d: 2-15                 [1, 128, 50, 4, 4]        256\n",
       "│    └─Conv3d: 2-16                      [1, 256, 50, 2, 2]        295,168\n",
       "│    └─ReLU: 2-17                        [1, 256, 50, 2, 2]        --\n",
       "│    └─BatchNorm3d: 2-18                 [1, 256, 50, 2, 2]        512\n",
       "│    └─AdaptiveAvgPool3d: 2-19           [1, 256, 1, 1, 1]         --\n",
       "├─Linear: 1-2                            [1, 2]                    514\n",
       "==========================================================================================\n",
       "Total params: 391,426\n",
       "Trainable params: 391,426\n",
       "Non-trainable params: 0\n",
       "Total mult-adds (M): 364.90\n",
       "==========================================================================================\n",
       "Input size (MB): 0.82\n",
       "Forward/backward pass size (MB): 55.96\n",
       "Params size (MB): 1.57\n",
       "Estimated Total Size (MB): 58.35\n",
       "=========================================================================================="
      ]
     },
     "execution_count": 32,
     "metadata": {},
     "output_type": "execute_result"
    }
   ],
   "source": [
    "from torchinfo import summary\n",
    "summary(model, (1,1,50,64,64))"
   ]
  }
 ],
 "metadata": {
  "kernelspec": {
   "display_name": "fall_env",
   "language": "python",
   "name": "python3"
  },
  "language_info": {
   "codemirror_mode": {
    "name": "ipython",
    "version": 3
   },
   "file_extension": ".py",
   "mimetype": "text/x-python",
   "name": "python",
   "nbconvert_exporter": "python",
   "pygments_lexer": "ipython3",
   "version": "3.9.19"
  }
 },
 "nbformat": 4,
 "nbformat_minor": 5
}
